{
 "cells": [
  {
   "cell_type": "code",
   "execution_count": null,
   "metadata": {},
   "outputs": [],
   "source": [
    "#data Sequential (1,2,3)-----> timesplit (data regresi)\n",
    "#data Supervised (x,y)----> train test splitter (classifier, regressor (pakai Super Vector Machine))"
   ]
  },
  {
   "cell_type": "code",
   "execution_count": null,
   "metadata": {},
   "outputs": [],
   "source": [
    "#alur :\n",
    "#1. siapin data\n",
    "#2. define model2 nya\n",
    "#model = Sequential(LSTM(2),Dense(1)) ---->sama aja kaya cara di bawah\n",
    "#model = Sequential()\n",
    "#model.add(LSTM(2, input_shape(2,1,0)))\n",
    "#model.add(Dense(1))\n",
    "#model.Activation(\"sigmoid\")\n",
    "#model.compile(optimizer=\"sgd\", loss=\"mse\")\n",
    "#data = data.reshape()\n",
    "#model.fit(x_train,y_train,batch_size=12,epoch=1000) ----> ini di training\n",
    "#loss,accuracy = model.evaluate(x,y)\n",
    "#model.predict(x,y)"
   ]
  },
  {
   "cell_type": "code",
   "execution_count": 1,
   "metadata": {},
   "outputs": [],
   "source": [
    "import pandas as pd\n",
    "import numpy as np\n",
    "%matplotlib inline\n",
    "import matplotlib.pyplot as plt\n",
    "import matplotlib\n",
    "from sklearn.preprocessing import MinMaxScaler\n",
    "from keras.layers import LSTM,Dense,Dropout\n",
    "from sklearn.model_selection import TimeSeriesSplit\n",
    "from sklearn.metrics import mean_squared_error, r2_score\n",
    "import matplotlib.dates as mdates\n",
    "from sklearn import linear_model"
   ]
  },
  {
   "cell_type": "code",
   "execution_count": 2,
   "metadata": {},
   "outputs": [],
   "source": [
    "df = pd.read_csv(\"MSFT.csv\",na_values=[\"null\"],index_col=\"Date\",parse_dates=True,infer_datetime_format=True)"
   ]
  },
  {
   "cell_type": "code",
   "execution_count": 3,
   "metadata": {},
   "outputs": [
    {
     "data": {
      "text/html": [
       "<div>\n",
       "<style scoped>\n",
       "    .dataframe tbody tr th:only-of-type {\n",
       "        vertical-align: middle;\n",
       "    }\n",
       "\n",
       "    .dataframe tbody tr th {\n",
       "        vertical-align: top;\n",
       "    }\n",
       "\n",
       "    .dataframe thead th {\n",
       "        text-align: right;\n",
       "    }\n",
       "</style>\n",
       "<table border=\"1\" class=\"dataframe\">\n",
       "  <thead>\n",
       "    <tr style=\"text-align: right;\">\n",
       "      <th></th>\n",
       "      <th>Open</th>\n",
       "      <th>High</th>\n",
       "      <th>Low</th>\n",
       "      <th>Close</th>\n",
       "      <th>Adj Close</th>\n",
       "      <th>Volume</th>\n",
       "    </tr>\n",
       "    <tr>\n",
       "      <th>Date</th>\n",
       "      <th></th>\n",
       "      <th></th>\n",
       "      <th></th>\n",
       "      <th></th>\n",
       "      <th></th>\n",
       "      <th></th>\n",
       "    </tr>\n",
       "  </thead>\n",
       "  <tbody>\n",
       "    <tr>\n",
       "      <th>1999-08-09</th>\n",
       "      <td>42.81250</td>\n",
       "      <td>42.90625</td>\n",
       "      <td>41.84375</td>\n",
       "      <td>41.90625</td>\n",
       "      <td>26.678083</td>\n",
       "      <td>39333600</td>\n",
       "    </tr>\n",
       "    <tr>\n",
       "      <th>1999-08-10</th>\n",
       "      <td>41.78125</td>\n",
       "      <td>42.03125</td>\n",
       "      <td>40.81250</td>\n",
       "      <td>41.46875</td>\n",
       "      <td>26.399563</td>\n",
       "      <td>62743000</td>\n",
       "    </tr>\n",
       "    <tr>\n",
       "      <th>1999-08-11</th>\n",
       "      <td>42.00000</td>\n",
       "      <td>42.34375</td>\n",
       "      <td>41.15625</td>\n",
       "      <td>42.09375</td>\n",
       "      <td>26.797453</td>\n",
       "      <td>66105200</td>\n",
       "    </tr>\n",
       "    <tr>\n",
       "      <th>1999-08-12</th>\n",
       "      <td>41.96875</td>\n",
       "      <td>42.09375</td>\n",
       "      <td>40.81250</td>\n",
       "      <td>40.87500</td>\n",
       "      <td>26.021582</td>\n",
       "      <td>61062000</td>\n",
       "    </tr>\n",
       "    <tr>\n",
       "      <th>1999-08-13</th>\n",
       "      <td>41.46875</td>\n",
       "      <td>42.81250</td>\n",
       "      <td>41.37500</td>\n",
       "      <td>42.34375</td>\n",
       "      <td>26.956615</td>\n",
       "      <td>65099800</td>\n",
       "    </tr>\n",
       "  </tbody>\n",
       "</table>\n",
       "</div>"
      ],
      "text/plain": [
       "                Open      High       Low     Close  Adj Close    Volume\n",
       "Date                                                                   \n",
       "1999-08-09  42.81250  42.90625  41.84375  41.90625  26.678083  39333600\n",
       "1999-08-10  41.78125  42.03125  40.81250  41.46875  26.399563  62743000\n",
       "1999-08-11  42.00000  42.34375  41.15625  42.09375  26.797453  66105200\n",
       "1999-08-12  41.96875  42.09375  40.81250  40.87500  26.021582  61062000\n",
       "1999-08-13  41.46875  42.81250  41.37500  42.34375  26.956615  65099800"
      ]
     },
     "execution_count": 3,
     "metadata": {},
     "output_type": "execute_result"
    }
   ],
   "source": [
    "df.head()"
   ]
  },
  {
   "cell_type": "code",
   "execution_count": 4,
   "metadata": {},
   "outputs": [
    {
     "data": {
      "text/html": [
       "<div>\n",
       "<style scoped>\n",
       "    .dataframe tbody tr th:only-of-type {\n",
       "        vertical-align: middle;\n",
       "    }\n",
       "\n",
       "    .dataframe tbody tr th {\n",
       "        vertical-align: top;\n",
       "    }\n",
       "\n",
       "    .dataframe thead th {\n",
       "        text-align: right;\n",
       "    }\n",
       "</style>\n",
       "<table border=\"1\" class=\"dataframe\">\n",
       "  <thead>\n",
       "    <tr style=\"text-align: right;\">\n",
       "      <th></th>\n",
       "      <th>Open</th>\n",
       "      <th>High</th>\n",
       "      <th>Low</th>\n",
       "      <th>Close</th>\n",
       "      <th>Adj Close</th>\n",
       "      <th>Volume</th>\n",
       "    </tr>\n",
       "  </thead>\n",
       "  <tbody>\n",
       "    <tr>\n",
       "      <th>count</th>\n",
       "      <td>5390.000000</td>\n",
       "      <td>5390.000000</td>\n",
       "      <td>5390.000000</td>\n",
       "      <td>5390.000000</td>\n",
       "      <td>5390.000000</td>\n",
       "      <td>5.390000e+03</td>\n",
       "    </tr>\n",
       "    <tr>\n",
       "      <th>mean</th>\n",
       "      <td>49.551305</td>\n",
       "      <td>50.077055</td>\n",
       "      <td>49.019044</td>\n",
       "      <td>49.561910</td>\n",
       "      <td>43.048048</td>\n",
       "      <td>5.451465e+07</td>\n",
       "    </tr>\n",
       "    <tr>\n",
       "      <th>std</th>\n",
       "      <td>42.360123</td>\n",
       "      <td>42.801701</td>\n",
       "      <td>41.884993</td>\n",
       "      <td>42.373713</td>\n",
       "      <td>44.308013</td>\n",
       "      <td>3.126808e+07</td>\n",
       "    </tr>\n",
       "    <tr>\n",
       "      <th>min</th>\n",
       "      <td>15.200000</td>\n",
       "      <td>15.620000</td>\n",
       "      <td>14.870000</td>\n",
       "      <td>15.150000</td>\n",
       "      <td>11.608222</td>\n",
       "      <td>7.425600e+06</td>\n",
       "    </tr>\n",
       "    <tr>\n",
       "      <th>25%</th>\n",
       "      <td>26.750000</td>\n",
       "      <td>27.022500</td>\n",
       "      <td>26.471249</td>\n",
       "      <td>26.740000</td>\n",
       "      <td>19.177396</td>\n",
       "      <td>3.245735e+07</td>\n",
       "    </tr>\n",
       "    <tr>\n",
       "      <th>50%</th>\n",
       "      <td>30.450001</td>\n",
       "      <td>30.767499</td>\n",
       "      <td>30.134999</td>\n",
       "      <td>30.480000</td>\n",
       "      <td>22.633795</td>\n",
       "      <td>4.969115e+07</td>\n",
       "    </tr>\n",
       "    <tr>\n",
       "      <th>75%</th>\n",
       "      <td>49.862499</td>\n",
       "      <td>50.460001</td>\n",
       "      <td>49.497498</td>\n",
       "      <td>49.869999</td>\n",
       "      <td>42.802543</td>\n",
       "      <td>6.781708e+07</td>\n",
       "    </tr>\n",
       "    <tr>\n",
       "      <th>max</th>\n",
       "      <td>229.270004</td>\n",
       "      <td>232.860001</td>\n",
       "      <td>227.350006</td>\n",
       "      <td>231.649994</td>\n",
       "      <td>231.045105</td>\n",
       "      <td>5.910522e+08</td>\n",
       "    </tr>\n",
       "  </tbody>\n",
       "</table>\n",
       "</div>"
      ],
      "text/plain": [
       "              Open         High          Low        Close    Adj Close  \\\n",
       "count  5390.000000  5390.000000  5390.000000  5390.000000  5390.000000   \n",
       "mean     49.551305    50.077055    49.019044    49.561910    43.048048   \n",
       "std      42.360123    42.801701    41.884993    42.373713    44.308013   \n",
       "min      15.200000    15.620000    14.870000    15.150000    11.608222   \n",
       "25%      26.750000    27.022500    26.471249    26.740000    19.177396   \n",
       "50%      30.450001    30.767499    30.134999    30.480000    22.633795   \n",
       "75%      49.862499    50.460001    49.497498    49.869999    42.802543   \n",
       "max     229.270004   232.860001   227.350006   231.649994   231.045105   \n",
       "\n",
       "             Volume  \n",
       "count  5.390000e+03  \n",
       "mean   5.451465e+07  \n",
       "std    3.126808e+07  \n",
       "min    7.425600e+06  \n",
       "25%    3.245735e+07  \n",
       "50%    4.969115e+07  \n",
       "75%    6.781708e+07  \n",
       "max    5.910522e+08  "
      ]
     },
     "execution_count": 4,
     "metadata": {},
     "output_type": "execute_result"
    }
   ],
   "source": [
    "df.describe()"
   ]
  },
  {
   "cell_type": "code",
   "execution_count": 19,
   "metadata": {},
   "outputs": [
    {
     "data": {
      "text/plain": [
       "(5390, 6)"
      ]
     },
     "execution_count": 19,
     "metadata": {},
     "output_type": "execute_result"
    }
   ],
   "source": [
    "df.shape"
   ]
  },
  {
   "cell_type": "code",
   "execution_count": 20,
   "metadata": {},
   "outputs": [
    {
     "data": {
      "text/plain": [
       "<AxesSubplot:xlabel='Date'>"
      ]
     },
     "execution_count": 20,
     "metadata": {},
     "output_type": "execute_result"
    },
    {
     "data": {
      "image/png": "[encoded data removed]",
      "text/plain": [
       "<Figure size 432x288 with 1 Axes>"
      ]
     },
     "metadata": {
      "needs_background": "light"
     },
     "output_type": "display_data"
    }
   ],
   "source": [
    "df[\"Adj Close\"].plot()"
   ]
  },
  {
   "cell_type": "code",
   "execution_count": 21,
   "metadata": {},
   "outputs": [],
   "source": [
    "#untuk test korelasi\n",
    "X = df.drop([\"Adj Close\"],axis=1)\n",
    "X = X.drop([\"Close\"],axis=1)"
   ]
  },
  {
   "cell_type": "code",
   "execution_count": 22,
   "metadata": {},
   "outputs": [
    {
     "data": {
      "text/html": [
       "<div>\n",
       "<style scoped>\n",
       "    .dataframe tbody tr th:only-of-type {\n",
       "        vertical-align: middle;\n",
       "    }\n",
       "\n",
       "    .dataframe tbody tr th {\n",
       "        vertical-align: top;\n",
       "    }\n",
       "\n",
       "    .dataframe thead th {\n",
       "        text-align: right;\n",
       "    }\n",
       "</style>\n",
       "<table border=\"1\" class=\"dataframe\">\n",
       "  <thead>\n",
       "    <tr style=\"text-align: right;\">\n",
       "      <th></th>\n",
       "      <th>Open</th>\n",
       "      <th>High</th>\n",
       "      <th>Low</th>\n",
       "      <th>Volume</th>\n",
       "    </tr>\n",
       "    <tr>\n",
       "      <th>Date</th>\n",
       "      <th></th>\n",
       "      <th></th>\n",
       "      <th></th>\n",
       "      <th></th>\n",
       "    </tr>\n",
       "  </thead>\n",
       "  <tbody>\n",
       "    <tr>\n",
       "      <th>1999-08-09</th>\n",
       "      <td>42.81250</td>\n",
       "      <td>42.90625</td>\n",
       "      <td>41.84375</td>\n",
       "      <td>39333600</td>\n",
       "    </tr>\n",
       "    <tr>\n",
       "      <th>1999-08-10</th>\n",
       "      <td>41.78125</td>\n",
       "      <td>42.03125</td>\n",
       "      <td>40.81250</td>\n",
       "      <td>62743000</td>\n",
       "    </tr>\n",
       "    <tr>\n",
       "      <th>1999-08-11</th>\n",
       "      <td>42.00000</td>\n",
       "      <td>42.34375</td>\n",
       "      <td>41.15625</td>\n",
       "      <td>66105200</td>\n",
       "    </tr>\n",
       "    <tr>\n",
       "      <th>1999-08-12</th>\n",
       "      <td>41.96875</td>\n",
       "      <td>42.09375</td>\n",
       "      <td>40.81250</td>\n",
       "      <td>61062000</td>\n",
       "    </tr>\n",
       "    <tr>\n",
       "      <th>1999-08-13</th>\n",
       "      <td>41.46875</td>\n",
       "      <td>42.81250</td>\n",
       "      <td>41.37500</td>\n",
       "      <td>65099800</td>\n",
       "    </tr>\n",
       "  </tbody>\n",
       "</table>\n",
       "</div>"
      ],
      "text/plain": [
       "                Open      High       Low    Volume\n",
       "Date                                              \n",
       "1999-08-09  42.81250  42.90625  41.84375  39333600\n",
       "1999-08-10  41.78125  42.03125  40.81250  62743000\n",
       "1999-08-11  42.00000  42.34375  41.15625  66105200\n",
       "1999-08-12  41.96875  42.09375  40.81250  61062000\n",
       "1999-08-13  41.46875  42.81250  41.37500  65099800"
      ]
     },
     "execution_count": 22,
     "metadata": {},
     "output_type": "execute_result"
    }
   ],
   "source": [
    "X.head()"
   ]
  },
  {
   "cell_type": "code",
   "execution_count": 24,
   "metadata": {},
   "outputs": [
    {
     "data": {
      "text/plain": [
       "<AxesSubplot:>"
      ]
     },
     "execution_count": 24,
     "metadata": {},
     "output_type": "execute_result"
    },
    {
     "data": {
      "image/png": "[encoded data removed]",
      "text/plain": [
       "<Figure size 432x288 with 1 Axes>"
      ]
     },
     "metadata": {
      "needs_background": "light"
     },
     "output_type": "display_data"
    }
   ],
   "source": [
    "X.corrwith(df[\"Adj Close\"]).plot.bar(grid=True)"
   ]
  },
  {
   "cell_type": "code",
   "execution_count": 25,
   "metadata": {},
   "outputs": [],
   "source": [
    "test = df\n",
    "target_adj_close  = pd.DataFrame(df[\"Adj Close\"])\n",
    "feature_columns = [\"Open\",\"High\",\"Low\",\"Volume\"]"
   ]
  },
  {
   "cell_type": "code",
   "execution_count": 26,
   "metadata": {},
   "outputs": [
    {
     "data": {
      "text/html": [
       "<div>\n",
       "<style scoped>\n",
       "    .dataframe tbody tr th:only-of-type {\n",
       "        vertical-align: middle;\n",
       "    }\n",
       "\n",
       "    .dataframe tbody tr th {\n",
       "        vertical-align: top;\n",
       "    }\n",
       "\n",
       "    .dataframe thead th {\n",
       "        text-align: right;\n",
       "    }\n",
       "</style>\n",
       "<table border=\"1\" class=\"dataframe\">\n",
       "  <thead>\n",
       "    <tr style=\"text-align: right;\">\n",
       "      <th></th>\n",
       "      <th>Open</th>\n",
       "      <th>High</th>\n",
       "      <th>Low</th>\n",
       "      <th>Volume</th>\n",
       "    </tr>\n",
       "    <tr>\n",
       "      <th>Date</th>\n",
       "      <th></th>\n",
       "      <th></th>\n",
       "      <th></th>\n",
       "      <th></th>\n",
       "    </tr>\n",
       "  </thead>\n",
       "  <tbody>\n",
       "    <tr>\n",
       "      <th>1999-08-09</th>\n",
       "      <td>0.128988</td>\n",
       "      <td>0.125604</td>\n",
       "      <td>0.126947</td>\n",
       "      <td>0.054672</td>\n",
       "    </tr>\n",
       "    <tr>\n",
       "      <th>1999-08-10</th>\n",
       "      <td>0.124171</td>\n",
       "      <td>0.121576</td>\n",
       "      <td>0.122094</td>\n",
       "      <td>0.094782</td>\n",
       "    </tr>\n",
       "    <tr>\n",
       "      <th>1999-08-11</th>\n",
       "      <td>0.125193</td>\n",
       "      <td>0.123015</td>\n",
       "      <td>0.123712</td>\n",
       "      <td>0.100543</td>\n",
       "    </tr>\n",
       "    <tr>\n",
       "      <th>1999-08-12</th>\n",
       "      <td>0.125047</td>\n",
       "      <td>0.121864</td>\n",
       "      <td>0.122094</td>\n",
       "      <td>0.091902</td>\n",
       "    </tr>\n",
       "    <tr>\n",
       "      <th>1999-08-13</th>\n",
       "      <td>0.122711</td>\n",
       "      <td>0.125173</td>\n",
       "      <td>0.124741</td>\n",
       "      <td>0.098820</td>\n",
       "    </tr>\n",
       "  </tbody>\n",
       "</table>\n",
       "</div>"
      ],
      "text/plain": [
       "                Open      High       Low    Volume\n",
       "Date                                              \n",
       "1999-08-09  0.128988  0.125604  0.126947  0.054672\n",
       "1999-08-10  0.124171  0.121576  0.122094  0.094782\n",
       "1999-08-11  0.125193  0.123015  0.123712  0.100543\n",
       "1999-08-12  0.125047  0.121864  0.122094  0.091902\n",
       "1999-08-13  0.122711  0.125173  0.124741  0.098820"
      ]
     },
     "execution_count": 26,
     "metadata": {},
     "output_type": "execute_result"
    }
   ],
   "source": [
    "scaler = MinMaxScaler()\n",
    "feature_minmax_transform_data = scaler.fit_transform(test[feature_columns])\n",
    "feature_minmax_transform = pd.DataFrame(columns=feature_columns, data=feature_minmax_transform_data, index=test.index)\n",
    "feature_minmax_transform.head()"
   ]
  },
  {
   "cell_type": "code",
   "execution_count": 29,
   "metadata": {},
   "outputs": [],
   "source": [
    "target_adj_close = target_adj_close.shift(-1)\n",
    "validation_y = target_adj_close[-90:-1]\n",
    "target_adj_close = target_adj_close[:-90]\n",
    "\n",
    "validation_x = feature_minmax_transform[-90:-1]\n",
    "feature_minmax_transform = feature_minmax_transform[:-90]"
   ]
  },
  {
   "cell_type": "code",
   "execution_count": 32,
   "metadata": {},
   "outputs": [],
   "source": [
    "ts_split = TimeSeriesSplit(n_splits=10)\n",
    "for train_index, test_index in ts_split.split(feature_minmax_transform):\n",
    "    X_train, X_test = feature_minmax_transform[:len(train_index)], feature_minmax_transform[len(train_index):]\n",
    "    Y_train, Y_test = target_adj_close[:len(train_index)].values.ravel(), target_adj_close[len(train_index):].values.ravel()"
   ]
  },
  {
   "cell_type": "code",
   "execution_count": 33,
   "metadata": {},
   "outputs": [
    {
     "data": {
      "text/plain": [
       "(481, 4)"
      ]
     },
     "execution_count": 33,
     "metadata": {},
     "output_type": "execute_result"
    }
   ],
   "source": [
    "X_test.shape"
   ]
  },
  {
   "cell_type": "code",
   "execution_count": 34,
   "metadata": {},
   "outputs": [
    {
     "data": {
      "text/plain": [
       "(4819, 4)"
      ]
     },
     "execution_count": 34,
     "metadata": {},
     "output_type": "execute_result"
    }
   ],
   "source": [
    "X_train.shape"
   ]
  },
  {
   "cell_type": "code",
   "execution_count": 35,
   "metadata": {},
   "outputs": [],
   "source": [
    "from sklearn.tree import DecisionTreeRegressor\n",
    "\n",
    "dt = DecisionTreeRegressor(random_state=0)\n",
    "modelawal = dt.fit(X_train, Y_train)"
   ]
  },
  {
   "cell_type": "code",
   "execution_count": 36,
   "metadata": {},
   "outputs": [],
   "source": [
    "Y_pred1 = modelawal.predict(X_test)"
   ]
  },
  {
   "cell_type": "code",
   "execution_count": 37,
   "metadata": {},
   "outputs": [
    {
     "data": {
      "image/png": "[encoded data removed]",
      "text/plain": [
       "<Figure size 432x288 with 1 Axes>"
      ]
     },
     "metadata": {
      "needs_background": "light"
     },
     "output_type": "display_data"
    }
   ],
   "source": [
    "plt.plot(Y_test, label=\"Teoretik\")\n",
    "plt.plot(Y_pred1, label=\"Model\")\n",
    "plt.xlabel(\"indeks\")\n",
    "plt.ylabel(\"Nilai saham\")\n",
    "plt.legend()\n",
    "plt.show()"
   ]
  },
  {
   "cell_type": "code",
   "execution_count": 47,
   "metadata": {},
   "outputs": [],
   "source": [
    "X_train = np.array(X_train)\n",
    "X_test = np.array(X_test)\n",
    "\n",
    "X_tr_t = X_train.reshape(X_train.shape[0],1,X_train.shape[1])\n",
    "X_ts_t = X_test.reshape(X_test.shape[0],1,X_test.shape[1])"
   ]
  },
  {
   "cell_type": "code",
   "execution_count": 48,
   "metadata": {},
   "outputs": [
    {
     "name": "stdout",
     "output_type": "stream",
     "text": [
      "Epoch 1/200\n",
      "603/603 [==============================] - 1s 2ms/step - loss: 874.9545\n",
      "Epoch 2/200\n",
      "603/603 [==============================] - 1s 2ms/step - loss: 311.6617\n",
      "Epoch 3/200\n",
      "603/603 [==============================] - 1s 2ms/step - loss: 157.1542\n",
      "Epoch 4/200\n",
      "603/603 [==============================] - 1s 2ms/step - loss: 134.1618\n",
      "Epoch 5/200\n",
      "603/603 [==============================] - 1s 2ms/step - loss: 120.1488\n",
      "Epoch 6/200\n",
      "603/603 [==============================] - 1s 2ms/step - loss: 93.1594\n",
      "Epoch 7/200\n",
      "603/603 [==============================] - 1s 2ms/step - loss: 68.1812\n",
      "Epoch 8/200\n",
      "603/603 [==============================] - 1s 2ms/step - loss: 48.1090: 0s -\n",
      "Epoch 9/200\n",
      "603/603 [==============================] - 1s 2ms/step - loss: 33.6976\n",
      "Epoch 10/200\n",
      "603/603 [==============================] - 1s 2ms/step - loss: 24.2862\n",
      "Epoch 11/200\n",
      "603/603 [==============================] - 1s 2ms/step - loss: 18.5217\n",
      "Epoch 12/200\n",
      "603/603 [==============================] - 1s 2ms/step - loss: 15.0702\n",
      "Epoch 13/200\n",
      "603/603 [==============================] - 1s 2ms/step - loss: 12.9715\n",
      "Epoch 14/200\n",
      "603/603 [==============================] - 1s 2ms/step - loss: 11.6737\n",
      "Epoch 15/200\n",
      "603/603 [==============================] - 1s 2ms/step - loss: 10.8658\n",
      "Epoch 16/200\n",
      "603/603 [==============================] - 1s 2ms/step - loss: 10.3720\n",
      "Epoch 17/200\n",
      "603/603 [==============================] - 1s 2ms/step - loss: 10.0749: 0s - loss: 10.\n",
      "Epoch 18/200\n",
      "603/603 [==============================] - 1s 2ms/step - loss: 9.9121\n",
      "Epoch 19/200\n",
      "603/603 [==============================] - 1s 2ms/step - loss: 9.8398\n",
      "Epoch 20/200\n",
      "603/603 [==============================] - 1s 2ms/step - loss: 9.8239\n",
      "Epoch 21/200\n",
      "603/603 [==============================] - 1s 2ms/step - loss: 9.8345\n",
      "Epoch 22/200\n",
      "603/603 [==============================] - 1s 2ms/step - loss: 9.8566\n",
      "Epoch 23/200\n",
      "603/603 [==============================] - 1s 2ms/step - loss: 9.8809\n",
      "Epoch 24/200\n",
      "603/603 [==============================] - 1s 2ms/step - loss: 9.9034\n",
      "Epoch 25/200\n",
      "603/603 [==============================] - 1s 2ms/step - loss: 9.9225\n",
      "Epoch 00025: early stopping\n"
     ]
    }
   ],
   "source": [
    "import keras.backend as K\n",
    "from keras.callbacks import EarlyStopping\n",
    "from keras.optimizers import Adam\n",
    "from keras.models import load_model\n",
    "from keras.models import Sequential\n",
    "\n",
    "K.clear_session()\n",
    "model=Sequential()\n",
    "model.add(LSTM(16, input_shape=(1,X_train.shape[1]), activation= \"relu\", return_sequences=False))\n",
    "model.add(Dense(1))\n",
    "model.compile(loss=\"mean_squared_error\", optimizer=\"adam\")\n",
    "early_stop = EarlyStopping(monitor=\"loss\", patience=5, verbose=1)\n",
    "history_model_lstm = model.fit(X_tr_t, Y_train, epochs=200, batch_size=8, verbose=1, shuffle=False, callbacks=[early_stop])"
   ]
  },
  {
   "cell_type": "code",
   "execution_count": 51,
   "metadata": {},
   "outputs": [],
   "source": [
    "Y_pred_test = model.predict(X_ts_t)"
   ]
  },
  {
   "cell_type": "code",
   "execution_count": 52,
   "metadata": {},
   "outputs": [
    {
     "data": {
      "image/png": "[encoded data removed]",
      "text/plain": [
       "<Figure size 432x288 with 1 Axes>"
      ]
     },
     "metadata": {
      "needs_background": "light"
     },
     "output_type": "display_data"
    }
   ],
   "source": [
    "plt.plot(Y_test, label=\"Teoretik\")\n",
    "plt.plot(Y_pred_test, label=\"Model\")\n",
    "plt.xlabel(\"indeks\")\n",
    "plt.ylabel(\"Nilai saham\")\n",
    "plt.legend()\n",
    "plt.show()"
   ]
  }
 ],
 "metadata": {
  "kernelspec": {
   "display_name": "Python 3",
   "language": "python",
   "name": "python3"
  },
  "language_info": {
   "codemirror_mode": {
    "name": "ipython",
    "version": 3
   },
   "file_extension": ".py",
   "mimetype": "text/x-python",
   "name": "python",
   "nbconvert_exporter": "python",
   "pygments_lexer": "ipython3",
   "version": "3.7.9"
  }
 },
 "nbformat": 4,
 "nbformat_minor": 4
}
